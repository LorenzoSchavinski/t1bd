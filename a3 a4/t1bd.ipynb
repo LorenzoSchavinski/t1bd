{
  "nbformat": 4,
  "nbformat_minor": 0,
  "metadata": {
    "colab": {
      "provenance": []
    },
    "kernelspec": {
      "name": "python3",
      "display_name": "Python 3"
    },
    "language_info": {
      "name": "python"
    }
  },
  "cells": [
    {
      "cell_type": "markdown",
      "source": [
        "conexao com bd\n"
      ],
      "metadata": {
        "id": "TtavU1eOah1N"
      }
    },
    {
      "cell_type": "code",
      "execution_count": 184,
      "metadata": {
        "colab": {
          "base_uri": "https://localhost:8080/"
        },
        "id": "lzLRWRXnTljA",
        "outputId": "64ab7fbe-1dbd-4c46-a431-0d55db031e47"
      },
      "outputs": [
        {
          "output_type": "stream",
          "name": "stdout",
          "text": [
            "Requirement already satisfied: pymongo[srv,tls] in /usr/local/lib/python3.10/dist-packages (4.10.1)\n",
            "\u001b[33mWARNING: pymongo 4.10.1 does not provide the extra 'srv'\u001b[0m\u001b[33m\n",
            "\u001b[0m\u001b[33mWARNING: pymongo 4.10.1 does not provide the extra 'tls'\u001b[0m\u001b[33m\n",
            "\u001b[0mRequirement already satisfied: dnspython<3.0.0,>=1.16.0 in /usr/local/lib/python3.10/dist-packages (from pymongo[srv,tls]) (2.7.0)\n"
          ]
        },
        {
          "output_type": "execute_result",
          "data": {
            "text/plain": [
              "['db_redecirurgias', 'admin', 'local']"
            ]
          },
          "metadata": {},
          "execution_count": 184
        }
      ],
      "source": [
        "!pip install pymongo[srv,tls]\n",
        "import pymongo\n",
        "import json\n",
        "from pprint import pprint\n",
        "from datetime import datetime\n",
        "# nome do usuário que foi cadastrado em Database Access\n",
        "mongo_user = \"lorenzo\"\n",
        "# senha que foi cadastrada em Database Access\n",
        "mongo_pw = \"naruto001\"\n",
        "# host que aparece quando você acessa Connect > Drivers\n",
        "mongo_host = \"clusterbd2.ewikb.mongodb.net\"\n",
        "# nome do cluster que você criou\n",
        "mongo_app = \"Clusterbd2\"\n",
        "\n",
        "# estrutura de conexão, não há necessidade de mudar nada por aqui! ;)\n",
        "conexao = pymongo.MongoClient(\"mongodb+srv://\" + mongo_user + \":\" + mongo_pw + \"@\" + mongo_host + \"/?retryWrites=true&w=majority&appName=\" + mongo_app)\n",
        "conexao.list_database_names()\n"
      ]
    },
    {
      "cell_type": "code",
      "source": [
        "bd = conexao[\"db_vendalivros\"]\n",
        "print(conexao.list_database_names())"
      ],
      "metadata": {
        "colab": {
          "base_uri": "https://localhost:8080/"
        },
        "id": "dm0w21E8T3X8",
        "outputId": "aadefd59-c25c-45bf-ee86-a934543cfd5e"
      },
      "execution_count": 185,
      "outputs": [
        {
          "output_type": "stream",
          "name": "stdout",
          "text": [
            "['db_redecirurgias', 'admin', 'local']\n"
          ]
        }
      ]
    },
    {
      "cell_type": "markdown",
      "source": [
        "criacao das collections\n"
      ],
      "metadata": {
        "id": "mTeeOU6MaoIK"
      }
    },
    {
      "cell_type": "code",
      "source": [
        "cliente = [\n",
        "    {\n",
        "        \"estado\": {\n",
        "        \"uf\": \"sp\",\n",
        "        \"nome\": \"sao paulo\",\n",
        "        \"regiao\": \"sudeste\"\n",
        "    },\n",
        "    \"cidade\": {\n",
        "        \"cod_cidade\": 1,\n",
        "        \"nome\": \"sao paulo\",\n",
        "        \"uf\": \"sp\"\n",
        "    },\n",
        "    \"endereco\": {\n",
        "        \"cod_endereco\": 1,\n",
        "        \"rua\": \"avenida paulista\",\n",
        "        \"numero\": 1000,\n",
        "        \"complemento\": \"Apt 2\",\n",
        "        \"cep\": 12345678,\n",
        "        \"cod_cidade\": 1,\n",
        "        \"cod_cliente\": 1\n",
        "    },\n",
        "    \"cliente\": {\n",
        "        \"cod_cliente\": 1,\n",
        "        \"nome\": \"joaozinho da silva\",\n",
        "        \"data_cadastro\": datetime(2024, 1, 15),\n",
        "        \"tipo\": \"F\"\n",
        "    },\n",
        "    \"pessoa_juridica\": {\n",
        "        \"cod_cliente\": 2,\n",
        "        \"razao_social\": \"Empresa FODA\",\n",
        "        \"cnpj\": \"12345678000000\"\n",
        "    },\n",
        "    \"pessoa_fisica\": {\n",
        "        \"cod_cliente\": 1,\n",
        "        \"cpf\": \"12345678900\",\n",
        "        \"genero\": \"M\",\n",
        "        \"data_nascimento\": datetime(1997, 5, 20),\n",
        "        \"cod_empresa\": 2\n",
        "    },\n",
        "    \"telefone\": [\n",
        "        {\"id_telefone\": \"1\", \"ddd\": 11, \"numero\": 987654321, \"cod_cliente\": 1},\n",
        "        {\"id_telefone\": \"2\", \"ddd\": 21, \"numero\": 876543210, \"cod_cliente\": 2}\n",
        "    ]\n",
        "    }\n",
        "]"
      ],
      "metadata": {
        "id": "nI_jGrAhUHUk"
      },
      "execution_count": 186,
      "outputs": []
    },
    {
      "cell_type": "code",
      "source": [
        "bd.cliente.insert_many(cliente)"
      ],
      "metadata": {
        "colab": {
          "base_uri": "https://localhost:8080/"
        },
        "id": "j36qS5WrUjaU",
        "outputId": "34e7a116-8085-4816-97f2-ad819c418ae6"
      },
      "execution_count": 187,
      "outputs": [
        {
          "output_type": "execute_result",
          "data": {
            "text/plain": [
              "InsertManyResult([ObjectId('6723f4173c3202e057eff534')], acknowledged=True)"
            ]
          },
          "metadata": {},
          "execution_count": 187
        }
      ]
    },
    {
      "cell_type": "code",
      "source": [
        "pedido = [{\n",
        "    \"pedido\": {\n",
        "        \"num_pedido\": 1,\n",
        "        \"data_emissao\": datetime(2022, 2, 1),\n",
        "        \"cod_cliente\": 1\n",
        "    },\n",
        "    \"item_pedido\": [\n",
        "        {\"num_item_pedido\": 1, \"num_pedido\": 1001, \"cod_produto\": 1, \"quantidade\": 1, \"valor_unitario\": 50.0}\n",
        "\n",
        "    ],\n",
        "    \"entrega\": {\n",
        "        \"num_entrega\": 5001,\n",
        "        \"data\": datetime(2022, 2, 5),\n",
        "        \"placa\": \"ABC123\",\n",
        "        \"mot_cnh\": \"12345678910\",\n",
        "        \"mot_nome\": \"carlos oliveira\"\n",
        "    }\n",
        "}]"
      ],
      "metadata": {
        "id": "uBdtDRs2Vwie"
      },
      "execution_count": 188,
      "outputs": []
    },
    {
      "cell_type": "code",
      "source": [
        "bd.pedido.insert_many(pedido)"
      ],
      "metadata": {
        "colab": {
          "base_uri": "https://localhost:8080/"
        },
        "id": "Ec3zdPyDVzDm",
        "outputId": "c7f839ac-4669-47f8-e16f-1f2713813a30"
      },
      "execution_count": 189,
      "outputs": [
        {
          "output_type": "execute_result",
          "data": {
            "text/plain": [
              "InsertManyResult([ObjectId('6723f4183c3202e057eff535')], acknowledged=True)"
            ]
          },
          "metadata": {},
          "execution_count": 189
        }
      ]
    },
    {
      "cell_type": "code",
      "source": [
        "produto_validation_schema = {\n",
        "    \"$jsonSchema\": {\n",
        "        \"bsonType\": \"object\",\n",
        "        \"required\": [\"cod_produto\", \"nome\", \"data_lancamento\", \"importado\", \"preco\", \"prazo_entrega\", \"cod_categoria\"],\n",
        "        \"properties\": {\n",
        "            \"cod_produto\": {\n",
        "                \"bsonType\": \"int\",\n",
        "                \"description\": \"codigo do produt\"\n",
        "            },\n",
        "            \"nome\": {\n",
        "                \"bsonType\": \"string\",\n",
        "                \"description\": \"nome do produto \"\n",
        "            },\n",
        "            \"data_lancamento\": {\n",
        "                \"bsonType\": \"date\",\n",
        "                \"description\": \"data de lançamento do produto\"\n",
        "            },\n",
        "            \"importado\": {\n",
        "                \"bsonType\": \"string\",\n",
        "                \"enum\": [\"S\", \"N\"],\n",
        "                \"description\": \"produto importado (S/N)\"\n",
        "            },\n",
        "            \"preco\": {\n",
        "                \"bsonType\": \"double\",\n",
        "                \"minimum\": 0,\n",
        "                \"description\": \"preco do produto \"\n",
        "            },\n",
        "            \"prazo_entrega\": {\n",
        "                \"bsonType\": \"int\",\n",
        "                \"minimum\": 0,\n",
        "                \"description\": \"prazo entrega em dias\"\n",
        "            },\n",
        "            \"cod_categoria\": {\n",
        "                \"bsonType\": \"int\",\n",
        "                \"description\": \"codigo da categoria do produto\"\n",
        "            }\n",
        "        }\n",
        "    }\n",
        "}\n",
        "\n",
        "\n",
        "bd.create_collection(\"produto\", validator=produto_validation_schema)\n"
      ],
      "metadata": {
        "colab": {
          "base_uri": "https://localhost:8080/"
        },
        "id": "pR37neuQoxVT",
        "outputId": "b67453c0-39cc-430a-c457-85ef26b340dc"
      },
      "execution_count": 190,
      "outputs": [
        {
          "output_type": "execute_result",
          "data": {
            "text/plain": [
              "Collection(Database(MongoClient(host=['clusterbd2-shard-00-02.ewikb.mongodb.net:27017', 'clusterbd2-shard-00-00.ewikb.mongodb.net:27017', 'clusterbd2-shard-00-01.ewikb.mongodb.net:27017'], document_class=dict, tz_aware=False, connect=True, retrywrites=True, w='majority', appname='Clusterbd2', authsource='admin', replicaset='atlas-12g2hg-shard-0', tls=True), 'db_vendalivros'), 'produto')"
            ]
          },
          "metadata": {},
          "execution_count": 190
        }
      ]
    },
    {
      "cell_type": "code",
      "source": [
        "\n",
        "\n",
        "produto = [{\n",
        "    \"cod_produto\": 1,\n",
        "    \"nome\": \"celular\",\n",
        "    \"data_lancamento\": datetime(2021, 12, 1),\n",
        "    \"importado\": \"N\",\n",
        "    \"preco\": 1500.0,\n",
        "    \"prazo_entrega\": 5,\n",
        "    \"cod_categoria\": 1,\n",
        "    \"avaliacao\": [\n",
        "        {\"id_avaliacao\": \"1\", \"nota\": 4, \"comentario\": \"muito bom\", \"cod_produto\": 1, \"cod_cliente\": 1},\n",
        "        {\"id_avaliacao\": \"2\", \"nota\": 5, \"comentario\": \"nao trava\", \"cod_produto\": 1, \"cod_cliente\": 2}\n",
        "    ],\n",
        "    \"categoria\": {\n",
        "        \"cod_categoria\": 1,\n",
        "        \"nome\": \"eletronicos\",\n",
        "        \"cod_categoria_pai\": None\n",
        "    }\n",
        "}]"
      ],
      "metadata": {
        "id": "ZnO_TiLSpT99"
      },
      "execution_count": 191,
      "outputs": []
    },
    {
      "cell_type": "code",
      "source": [
        "bd.produto.insert_many(produto)"
      ],
      "metadata": {
        "colab": {
          "base_uri": "https://localhost:8080/"
        },
        "id": "-aeqUrX4V2tK",
        "outputId": "0c85cef2-a1ca-44d5-c13c-1a2ab60baf74"
      },
      "execution_count": 192,
      "outputs": [
        {
          "output_type": "execute_result",
          "data": {
            "text/plain": [
              "InsertManyResult([ObjectId('6723f4183c3202e057eff536')], acknowledged=True)"
            ]
          },
          "metadata": {},
          "execution_count": 192
        }
      ]
    },
    {
      "cell_type": "markdown",
      "source": [
        "consultas\n"
      ],
      "metadata": {
        "id": "m2D6hZFmasaf"
      }
    },
    {
      "cell_type": "code",
      "source": [
        "\n",
        "clientes = bd.cliente.aggregate([\n",
        "    {\n",
        "        \"$lookup\": {\n",
        "            \"from\": \"cidade\",\n",
        "            \"localField\": \"endereco.cod_cidade\",\n",
        "            \"foreignField\": \"cod_cidade\",\n",
        "            \"as\": \"_\"\n",
        "        }\n",
        "    },\n",
        "    {\n",
        "        \"$project\": {\n",
        "            \"cliente.nome\": 1,\n",
        "            \"cidade.nome\": 1,\n",
        "            \"_id\": 0\n",
        "        }\n",
        "    }\n",
        "])\n",
        "\n",
        "for cliente in clientes:\n",
        "    print(cliente)\n"
      ],
      "metadata": {
        "colab": {
          "base_uri": "https://localhost:8080/"
        },
        "id": "RhMEQdXfaAr8",
        "outputId": "a2400dc8-b261-4df1-db90-6ef38a8bd86d"
      },
      "execution_count": 202,
      "outputs": [
        {
          "output_type": "stream",
          "name": "stdout",
          "text": [
            "{'cidade': {'nome': 'sao paulo'}, 'cliente': {'nome': 'joaozinho da silva'}}\n"
          ]
        }
      ]
    },
    {
      "cell_type": "code",
      "source": [
        "categorias = bd.produto.aggregate([\n",
        "    {\n",
        "        \"$group\": {\n",
        "            \"_id\": \"$categoria.nome\",\n",
        "            \"totalProdutos\": { \"$sum\": 1 }\n",
        "        }\n",
        "    },\n",
        "    {\n",
        "        \"$project\": {\n",
        "            \"Categoria\": \"$_id\",\n",
        "            \"totalProdutos\": 1,\n",
        "            \"_id\": 0\n",
        "        }\n",
        "    }\n",
        "])\n",
        "\n",
        "for categoria in categorias:\n",
        "    print(categoria)"
      ],
      "metadata": {
        "colab": {
          "base_uri": "https://localhost:8080/"
        },
        "id": "UIwnuOtHaKpe",
        "outputId": "ead04826-451a-4c07-ae48-07ba3a9e5e71"
      },
      "execution_count": 201,
      "outputs": [
        {
          "output_type": "stream",
          "name": "stdout",
          "text": [
            "{'totalProdutos': 1, 'Categoria': 'eletronicos'}\n"
          ]
        }
      ]
    },
    {
      "cell_type": "code",
      "source": [
        "produtos_mais_vendidos = bd.pedido.aggregate([\n",
        "    { \"$unwind\": \"$item_pedido\" },\n",
        "    {\n",
        "        \"$group\": {\n",
        "            \"_id\": \"$item_pedido.cod_produto\",\n",
        "            \"totalVendas\": { \"$sum\": \"$item_pedido.quantidade\" }\n",
        "        }\n",
        "    },\n",
        "    { \"$sort\": { \"totalVendas\": -1 } },\n",
        "    {\n",
        "        \"$lookup\": {\n",
        "            \"from\": \"produto\",\n",
        "            \"localField\": \"_id\",\n",
        "            \"foreignField\": \"cod_produto\",\n",
        "            \"as\": \"produto\"\n",
        "        }\n",
        "    },\n",
        "    { \"$unwind\": \"$produto\" },\n",
        "    {\n",
        "        \"$project\": {\n",
        "            \"_id\": 0,\n",
        "            \"Produto\": \"$produto.nome\",\n",
        "            \"totalVendas\": 1\n",
        "        }\n",
        "    }\n",
        "])\n",
        "\n",
        "for produto in produtos_mais_vendidos:\n",
        "    print(produto)\n"
      ],
      "metadata": {
        "colab": {
          "base_uri": "https://localhost:8080/"
        },
        "id": "f47wuhVIaRZr",
        "outputId": "2b214e47-2e50-4542-aee6-c5642884e60f"
      },
      "execution_count": 200,
      "outputs": [
        {
          "output_type": "stream",
          "name": "stdout",
          "text": [
            "{'totalVendas': 1, 'Produto': 'celular'}\n"
          ]
        }
      ]
    },
    {
      "cell_type": "code",
      "source": [
        "pedidos = bd.pedido.aggregate([\n",
        "    {\n",
        "        \"$lookup\": {\n",
        "            \"from\": \"cliente\",\n",
        "            \"localField\": \"pedido.cod_cliente\",\n",
        "            \"foreignField\": \"cliente.cod_cliente\",\n",
        "            \"as\": \"detalhes_cliente\"\n",
        "        }\n",
        "    },\n",
        "    { \"$unwind\": \"$detalhes_cliente\" },\n",
        "    { \"$unwind\": \"$item_pedido\" },\n",
        "    {\n",
        "        \"$group\": {\n",
        "            \"_id\": \"$pedido.num_pedido\",\n",
        "            \"Cliente\": { \"$first\": \"$detalhes_cliente.cliente.nome\" },\n",
        "            \"valorTotal\": {\n",
        "                \"$sum\": { \"$multiply\": [\"$item_pedido.quantidade\", \"$item_pedido.valor_unitario\"] }\n",
        "            }\n",
        "        }\n",
        "    },\n",
        "    { \"$sort\": { \"valorTotal\": -1 } },\n",
        "    {\n",
        "        \"$project\": {\n",
        "            \"_id\": 0,\n",
        "            \"Cliente\": 1,\n",
        "            \"numPedido\": \"$_id\",\n",
        "            \"valorTotal\": 1\n",
        "        }\n",
        "    }\n",
        "])\n",
        "\n",
        "for pedido in pedidos:\n",
        "    print(pedido)"
      ],
      "metadata": {
        "colab": {
          "base_uri": "https://localhost:8080/"
        },
        "id": "jRAj74ZSaYHC",
        "outputId": "80a7b01a-c760-4780-b62e-24bea87f3739"
      },
      "execution_count": 198,
      "outputs": [
        {
          "output_type": "stream",
          "name": "stdout",
          "text": [
            "{'Cliente': 'joaozinho da silva', 'valorTotal': 1500.0, 'numPedido': 1}\n"
          ]
        }
      ]
    },
    {
      "cell_type": "code",
      "source": [
        "top_categorias = bd.pedido.aggregate([\n",
        "    { \"$unwind\": \"$item_pedido\" },\n",
        "    {\n",
        "        \"$lookup\": {\n",
        "            \"from\": \"produto\",\n",
        "            \"localField\": \"item_pedido.cod_produto\",\n",
        "            \"foreignField\": \"cod_produto\",\n",
        "            \"as\": \"produto\"\n",
        "        }\n",
        "    },\n",
        "    { \"$unwind\": \"$produto\" },\n",
        "    {\n",
        "        \"$group\": {\n",
        "            \"_id\": \"$produto.categoria.nome\",\n",
        "            \"totalVendas\": { \"$sum\": \"$item_pedido.quantidade\" }\n",
        "        }\n",
        "    },\n",
        "    { \"$sort\": { \"totalVendas\": -1 } },\n",
        "    { \"$limit\": 3 },\n",
        "    {\n",
        "        \"$project\": {\n",
        "            \"Categoria\": \"$_id\",\n",
        "            \"_id\": 0,\n",
        "            \"totalVendas\": 1\n",
        "        }\n",
        "    }\n",
        "])\n",
        "\n",
        "for categoria in top_categorias:\n",
        "    print(categoria)\n"
      ],
      "metadata": {
        "colab": {
          "base_uri": "https://localhost:8080/"
        },
        "id": "S5EMQZ7VacAl",
        "outputId": "6818401a-69ca-4f00-fe97-8bb9b68d3ef0"
      },
      "execution_count": 199,
      "outputs": [
        {
          "output_type": "stream",
          "name": "stdout",
          "text": [
            "{'totalVendas': 1, 'Categoria': 'eletronicos'}\n"
          ]
        }
      ]
    },
    {
      "cell_type": "code",
      "source": [],
      "metadata": {
        "id": "uaPCV-02aeuy"
      },
      "execution_count": 197,
      "outputs": []
    },
    {
      "cell_type": "markdown",
      "source": [],
      "metadata": {
        "id": "d3jzztVkaeJ8"
      }
    }
  ]
}